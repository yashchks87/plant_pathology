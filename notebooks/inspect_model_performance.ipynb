{
 "cells": [
  {
   "cell_type": "code",
   "execution_count": 1,
   "metadata": {},
   "outputs": [],
   "source": [
    "import numpy as np\n",
    "import torch\n",
    "import torch.nn as nn \n",
    "import torch.nn.functional as F\n",
    "import pandas as pd\n",
    "%load_ext autoreload\n",
    "%autoreload 2\n",
    "import sys\n",
    "sys.path.append('../../plant_pathology/scripts/')\n",
    "from dataset.dataloaders import GetLoaders\n",
    "from dataset.dataset import ReadCSV\n",
    "import os\n",
    "from train.loss import loss_fn\n",
    "from model.resnet32 import get_model\n",
    "from model.vgg16 import get_vgg16\n",
    "from train.train_script import train, eval_dataset\n",
    "import torchvision\n",
    "from dataset.resize_images import resize_images\n",
    "import glob\n",
    "# from kaggle.api.kaggle_api_extended import KaggleApi\n",
    "import pickle\n",
    "from metrics.metrics import generate_metrics\n",
    "import matplotlib.pyplot as plt\n",
    "import torchvision"
   ]
  },
  {
   "cell_type": "code",
   "execution_count": 2,
   "metadata": {},
   "outputs": [],
   "source": [
    "temp = ReadCSV('../../plant_path_data/train.csv', '../../plant_path_data/train_images_224/')\n",
    "temp.read_csv()\n",
    "temp.check_paths()\n",
    "temp.encode_labels()\n",
    "temp.one_hot_encoder()\n",
    "temp.split_datasets()"
   ]
  },
  {
   "cell_type": "code",
   "execution_count": 15,
   "metadata": {},
   "outputs": [],
   "source": [
    "data_object = temp.get_object()\n",
    "loader_object = GetLoaders(data_object.train, data_object.val, data_object.test)\n",
    "loader_object.create_sets()\n",
    "loader_object.create_loaders(shuffle_train=False, batch_size=256)\n",
    "train_loader, val_loader, test_loader = loader_object.return_loaders()"
   ]
  },
  {
   "cell_type": "code",
   "execution_count": 16,
   "metadata": {},
   "outputs": [],
   "source": [
    "loss, preds = eval_dataset(get_model(12), train_loader, weights_path='../../weights/res50_horizontal_flip_random_brightness_contrast_smoothing_v1/47.pth', return_preds = True)"
   ]
  },
  {
   "cell_type": "code",
   "execution_count": 28,
   "metadata": {},
   "outputs": [],
   "source": [
    "preds_updated = torch.argmax(F.softmax(preds), dim=1).int()"
   ]
  },
  {
   "cell_type": "code",
   "execution_count": 31,
   "metadata": {},
   "outputs": [],
   "source": [
    "labels = torch.Tensor(train_loader.dataset.labels).int()"
   ]
  },
  {
   "cell_type": "code",
   "execution_count": 48,
   "metadata": {},
   "outputs": [],
   "source": [
    "wrong_preds = torch.where(preds_updated != labels)[0]"
   ]
  },
  {
   "cell_type": "code",
   "execution_count": 52,
   "metadata": {},
   "outputs": [],
   "source": [
    "wrong_preds_paths = np.array(train_loader.dataset.paths)[wrong_preds]"
   ]
  },
  {
   "cell_type": "code",
   "execution_count": 56,
   "metadata": {},
   "outputs": [],
   "source": [
    "# "
   ]
  },
  {
   "cell_type": "code",
   "execution_count": null,
   "metadata": {},
   "outputs": [],
   "source": []
  }
 ],
 "metadata": {
  "kernelspec": {
   "display_name": "Python 3",
   "language": "python",
   "name": "python3"
  },
  "language_info": {
   "codemirror_mode": {
    "name": "ipython",
    "version": 3
   },
   "file_extension": ".py",
   "mimetype": "text/x-python",
   "name": "python",
   "nbconvert_exporter": "python",
   "pygments_lexer": "ipython3",
   "version": "3.9.16"
  }
 },
 "nbformat": 4,
 "nbformat_minor": 2
}
